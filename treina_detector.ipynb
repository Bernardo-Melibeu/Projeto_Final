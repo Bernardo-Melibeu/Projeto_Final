{
 "cells": [
  {
   "cell_type": "code",
   "execution_count": null,
   "metadata": {},
   "outputs": [],
   "source": [
    "import numpy as np\n",
    "import matplotlib.pyplot as plt\n",
    "import tensorflow as tf\n",
    "from tensorflow import keras\n",
    "from keras import callbacks\n",
    "from keras.callbacks import ModelCheckpoint\n",
    "from pathlib import Path\n",
    "import os.path\n",
    "from datetime import datetime\n",
    "from sklearn.cluster import KMeans\n",
    "from keras import layers\n",
    "import pandas as pd"
   ]
  },
  {
   "cell_type": "code",
   "execution_count": null,
   "metadata": {},
   "outputs": [],
   "source": [
    "epochs=100\n",
    "batch_size = 54\n",
    "img_height = 240\n",
    "img_width = 320\n",
    "data_dir=\"data/img/genre_detector\"\n",
    "dataset = tf.keras.preprocessing.image_dataset_from_directory(data_dir, image_size=(img_height,img_width), batch_size=batch_size,labels=\"inferred\",crop_to_aspect_ratio=True)\n",
    "class_names = dataset.class_names"
   ]
  },
  {
   "cell_type": "code",
   "execution_count": null,
   "metadata": {},
   "outputs": [],
   "source": [
    "train_ds = tf.keras.utils.image_dataset_from_directory(data_dir,validation_split=0.2,subset=\"training\",seed=42,image_size=(img_height, img_width),batch_size=batch_size,crop_to_aspect_ratio=True)\n",
    "val_ds = tf.keras.utils.image_dataset_from_directory(data_dir,validation_split=0.2,subset=\"validation\",seed=42,image_size=(img_height, img_width),batch_size=batch_size,crop_to_aspect_ratio=True)\n",
    "class_names = train_ds.class_names\n",
    "num_classes = len(class_names)"
   ]
  },
  {
   "cell_type": "code",
   "execution_count": null,
   "metadata": {},
   "outputs": [],
   "source": [
    "def faz_model(optimizer=\"adam\",metrics=[\"accuracy\"]):\n",
    "    model = tf.keras.Sequential([\n",
    "        tf.keras.layers.Rescaling(1./255),\n",
    "        #primeira camada convolucional\n",
    "        tf.keras.layers.Conv2D(64, 3, activation='relu'),\n",
    "        tf.keras.layers.MaxPooling2D(),\n",
    "        #segunda camada convolucional\n",
    "        tf.keras.layers.Conv2D(64, 3, activation='relu'),\n",
    "        tf.keras.layers.MaxPooling2D(),\n",
    "        #terceira camada convolucional\n",
    "        tf.keras.layers.Conv2D(64, 3, activation='relu'),\n",
    "        tf.keras.layers.MaxPooling2D(),\n",
    "        #quarta camada convolucional\n",
    "        tf.keras.layers.Conv2D(64, 3, activation='relu'),\n",
    "        tf.keras.layers.MaxPooling2D(),\n",
    "        #camada densa\n",
    "        tf.keras.layers.Flatten(),\n",
    "        tf.keras.layers.Dense(256, activation='relu'),\n",
    "        tf.keras.layers.Dense(num_classes)])\n",
    "    model.compile(optimizer=optimizer,loss=tf.losses.SparseCategoricalCrossentropy(from_logits=True),metrics=metrics)\n",
    "    return model"
   ]
  },
  {
   "cell_type": "code",
   "execution_count": null,
   "metadata": {},
   "outputs": [],
   "source": [
    "n_init=10\n",
    "checa=0\n",
    "best_layer=-1\n",
    "history=[]\n",
    "current_working_directory = Path.cwd()\n",
    "model_checkpoint_file = os.path.join(current_working_directory,datetime.now().strftime(\"%Y%m%d%H%M%S\") + '.h5')\n",
    "checkpoint = ModelCheckpoint(model_checkpoint_file,\n",
    "                                     monitor='val_accuracy',\n",
    "                                     verbose=False,\n",
    "                                     save_best_only=True,\n",
    "                                     mode='max')\n",
    "early_stop=tf.keras.callbacks.EarlyStopping(monitor=\"val_accuracy\",patience=10,restore_best_weights=True)\n",
    "\n",
    "\n",
    "for idx in range(n_init):\n",
    "    print(f\"Treino numero: {idx}\")\n",
    "    model=faz_model()\n",
    "    history.append((model.fit(train_ds,validation_data=val_ds,epochs=epochs,callbacks=[early_stop,checkpoint],verbose=False),model))\n",
    "    teste=model.evaluate(val_ds)\n",
    "    if(checa<teste[1]):\n",
    "        best_layer=idx\n",
    "        checa=teste[1]"
   ]
  },
  {
   "cell_type": "code",
   "execution_count": null,
   "metadata": {},
   "outputs": [],
   "source": [
    "history_frame = pd.DataFrame(history[best_layer][0].history)\n",
    "history_frame.loc[:, ['accuracy', 'val_accuracy']].plot()\n",
    "plt.grid(True)"
   ]
  },
  {
   "cell_type": "code",
   "execution_count": null,
   "metadata": {},
   "outputs": [],
   "source": [
    "history[best_layer][1].evaluate(val_ds)"
   ]
  }
 ],
 "metadata": {
  "kernelspec": {
   "display_name": ".venv",
   "language": "python",
   "name": "python3"
  },
  "language_info": {
   "codemirror_mode": {
    "name": "ipython",
    "version": 3
   },
   "file_extension": ".py",
   "mimetype": "text/x-python",
   "name": "python",
   "nbconvert_exporter": "python",
   "pygments_lexer": "ipython3",
   "version": "3.11.4"
  },
  "orig_nbformat": 4
 },
 "nbformat": 4,
 "nbformat_minor": 2
}
