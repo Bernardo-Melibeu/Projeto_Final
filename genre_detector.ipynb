{
 "cells": [
  {
   "cell_type": "code",
   "execution_count": null,
   "metadata": {},
   "outputs": [],
   "source": [
    "import numpy as np\n",
    "import matplotlib.pyplot as plt\n",
    "import tensorflow as tf\n",
    "from tensorflow import keras\n",
    "from sklearn.metrics import ConfusionMatrixDisplay\n",
    "from keras.models import load_model"
   ]
  },
  {
   "cell_type": "code",
   "execution_count": null,
   "metadata": {},
   "outputs": [],
   "source": [
    "batch_size = 54\n",
    "img_height = 240\n",
    "img_width = 320"
   ]
  },
  {
   "cell_type": "code",
   "execution_count": null,
   "metadata": {},
   "outputs": [],
   "source": [
    "#SELECIONAR ENDEREÇO DA PASTA\n",
    "teste_dir=\"data/img/genre_detector\"\n",
    "dataset=tf.keras.preprocessing.image_dataset_from_directory(teste_dir, image_size=(img_height,img_width), batch_size=batch_size,labels=\"inferred\",crop_to_aspect_ratio=True)\n",
    "class_names = dataset.class_names"
   ]
  },
  {
   "cell_type": "code",
   "execution_count": null,
   "metadata": {},
   "outputs": [],
   "source": [
    "#SELECIONAR MODELO\n",
    "model=load_model(\"models/4camadas54batchOP.h5\")"
   ]
  },
  {
   "cell_type": "code",
   "execution_count": null,
   "metadata": {},
   "outputs": [],
   "source": [
    "lista=[]\n",
    "labels=[]\n",
    "teste=[]\n",
    "for x,y in dataset:\n",
    "    labels.append(y.numpy())\n",
    "    pred=model.predict(x)\n",
    "    teste.append(pred)\n",
    "resultados=[]\n",
    "for i in teste:\n",
    "     for j in i:\n",
    "        resultados.append(np.argsort(j)[::-1][:1])\n",
    "pred=[]\n",
    "for i in resultados:\n",
    "    pred.append(int(i))\n",
    "true=[]\n",
    "for i in labels:\n",
    "    for j in i:\n",
    "        true.append(j)"
   ]
  },
  {
   "cell_type": "code",
   "execution_count": null,
   "metadata": {},
   "outputs": [],
   "source": [
    "disp = ConfusionMatrixDisplay.from_predictions(true,pred)\n",
    "disp.figure_.suptitle(\"Confusion Matrix\")\n",
    "print(f\"Confusion matrix:\\n{disp.confusion_matrix}\")"
   ]
  },
  {
   "cell_type": "code",
   "execution_count": null,
   "metadata": {},
   "outputs": [],
   "source": [
    "model.evaluate(dataset)"
   ]
  }
 ],
 "metadata": {
  "kernelspec": {
   "display_name": ".venv",
   "language": "python",
   "name": "python3"
  },
  "language_info": {
   "codemirror_mode": {
    "name": "ipython",
    "version": 3
   },
   "file_extension": ".py",
   "mimetype": "text/x-python",
   "name": "python",
   "nbconvert_exporter": "python",
   "pygments_lexer": "ipython3",
   "version": "3.11.4"
  },
  "orig_nbformat": 4
 },
 "nbformat": 4,
 "nbformat_minor": 2
}
